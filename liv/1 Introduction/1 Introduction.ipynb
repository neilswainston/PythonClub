{
 "cells": [
  {
   "cell_type": "markdown",
   "metadata": {},
   "source": [
    "# PythonClub\n",
    "\n",
    "Welcome to PythonClub! Over the next few weeks we'll work together to introduce you to this powerful language, and allow many of you to dip your toes into the bountiful seas of coding for the first time.\n",
    "\n",
    "The basic premise is to take you through the basics of the language (and coding in general) and hopefully illustrate that you can build really complex software by learning the basics and utilising existing code.\n",
    "\n",
    "Python (just like all programming languages) allows scripts and software to be built from small, reuasble pieces, with a probably too simplistic analogy being with Lego bricks. From a small number of Lego bricks, great structures can be built, limited only by your imagination.\n",
    "\n",
    "And, as mentioned, much of the hard work has already been done for us. There are a ridiculous number of freely available open source libraries for seemingly endless applications, from manipulating Excel files, to automating plotting, to reading mass spectrometry data, to running complex machine learning algorithms. We can even use Python to program lab equipment to automate our routine experimental tasks. Half of the art of programming is knowing enough of the basics to be able to build on the work of others.\n",
    "\n",
    "So... let's get on, eh?\n",
    "\n",
    "# Writing and running code\n",
    "\n",
    "By now, you will all have installed Python. There are a number of ways of writing and running Python code, and we'll start with the command line.\n",
    "\n",
    "## Command line\n",
    "\n",
    "So, open a command line interface (which on a Mac will be the Terminal window (available under Applications/Utilities) and on Windows will be a Command Prompt (see details on [opening](https://www.howtogeek.com/235101/10-ways-to-open-the-command-prompt-in-windows-10/) the Command Prompt).\n",
    "                                   \n",
    "Once opened, type <code>python</code> and you should see something like the following:"
   ]
  },
  {
   "cell_type": "raw",
   "metadata": {},
   "source": [
    "Python 3.7.3 (default, Mar 27 2019, 16:54:48) \n",
    "[Clang 4.0.1 (tags/RELEASE_401/final)] :: Anaconda, Inc. on darwin\n",
    "Type \"help\", \"copyright\", \"credits\" or \"license\" for more information.\n",
    ">>>"
   ]
  },
  {
   "cell_type": "markdown",
   "metadata": {},
   "source": [
    "The >>> prompt indicates that Python is ready to take your orders!\n",
    "\n",
    "Step 1 involves generating your first error. You'll generate thousands of errors during your coding journey. Just embrace them. The key is to learn what they mean and how to diagnose them."
   ]
  },
  {
   "cell_type": "raw",
   "metadata": {},
   "source": [
    ">>> Hooray for PythonClub!\n",
    "  File \"<stdin>\", line 1\n",
    "    Hooray for PythonClub!\n",
    "             ^\n",
    "SyntaxError: invalid syntax\n",
    ">>> "
   ]
  },
  {
   "cell_type": "markdown",
   "metadata": {},
   "source": [
    "Computer says no. \"Hooray for PythonClub!\" may be a nice sentiment but means nothing to Python. The error message in this case gives you a clue to the problem. <code>Syntax Error: invalid syntax</code> is a common error, which effectively is telling us that Python doesn't understand the command. This often indicates a spelling mistake (although obviously not on this occassion).\n",
    "\n",
    "Instead, try some basic arithmatic which Python will understand..."
   ]
  },
  {
   "cell_type": "raw",
   "metadata": {},
   "source": [
    ">>> 17/5\n",
    "3.4\n",
    ">>> "
   ]
  },
  {
   "cell_type": "markdown",
   "metadata": {},
   "source": [
    "Bingo! A sensible result. You've probably gathered that the <code>/</code> character represents division. Strictly speaking, this is an example of an <i>arithmetic operator</i>.\n",
    "\n",
    "Other arithmetic operators are:\n",
    "\n",
    "- <code>+</code>\n",
    "- <code>-</code>\n",
    "- <code>*</code>\n",
    "- <code>/</code>\n",
    "- <code>//</code>\n",
    "- <code>%</code>\n",
    "- <code>**</code>\n",
    "\n",
    "Have a play with the above and see if you can work out what each does.\n",
    "\n",
    "The command line interface for Python is handy for quickly testing small bits of code, but has the obvious disadvantage that it doesn't save the work that you've done. Once you close the command line interface, it's gone. We need some alternatives...\n",
    "\n",
    "## Scripts / text editors\n",
    "\n",
    "So, the obvious next step is to collect a collection of commands together in a file, that can be edited, saved and run. This is a Python <i>script</i>, which is a simple text file containing Python commands, typically stored with a <code>.py</code> extension.\n",
    "\n",
    "A simple script, called <code>test_script.py</code> is available. Take a look at this file in a text editor (like NotePad or TextEdit). There's nothing inherently special about this. It's a simple text file, containing a single line of Python code.\n",
    "\n",
    "Running a Python script can also be performed from the command line. Note, to run a Python script, your command-line tool should be at its default prompt (not at the <code>>>></code> prompt). To exit Python and return to the default prompt, type <code>quit()</code>:"
   ]
  },
  {
   "cell_type": "raw",
   "metadata": {},
   "source": [
    ">>> quit()\n",
    "my_comp:~ my_name$"
   ]
  },
  {
   "cell_type": "markdown",
   "metadata": {},
   "source": [
    "Then, to run a script, type the following command:\n",
    "\n",
    "<code>python test_script.py</code>\n",
    "    \n",
    "Running this script produces the following output:"
   ]
  },
  {
   "cell_type": "raw",
   "metadata": {},
   "source": [
    ">>> quit()\n",
    "my_comp:~ my_name$python test_script.py\n",
    "5 squared = 25"
   ]
  },
  {
   "cell_type": "markdown",
   "metadata": {},
   "source": [
    "### Important! Navigating directories from the command prompt\n",
    "\n",
    "TODO...\n",
    "\n",
    "\n",
    "### Important! The <code>print</code> method\n",
    "\n",
    "When Python is run from the command line, the result of every command is written to the screen as output. This makes it useful for testing small bits of code interactively. However, a script may contain many (hundreds) of individual commands, and it would be annoying if the output from each of these commands was written to the screen.\n",
    "\n",
    "So, the <code>test_script.py</code> script contains the command <code>print('5 squared =', 5**2)</code>. The <code>print()</code> command is used to explicitly output the result of a command to screen.\n",
    "\n",
    "## IDEs\n",
    "\n",
    "The next step up from a simple text editor (like Notepad or TextEdit) is the IDE, which stands for \"integrated development environment\". An IDE is a piece of software that is used to support the writing of software, if this makes sense. Essentially, you can think of it as a text editor, but with a number of other features that make simplify the process of writing Python code. These features include simple things like code highlighting and colouring, making it easier to quickly distinguish comments from commands, variables from functions. (More on these terms later.) They often support code completion, meaning that commands can be completed automatically. A near-essential for programming larger systems is the availability of debuggers, which - as the name suggests - allows the programmer to stop the code while it is running and step through it, line by line.\n",
    "\n",
    "There are <b>many</b> IDEs. One option is <b>Eclipse</b> (pictured below) but there are many others.\n",
    "\n",
    "![Eclipse](eclipse.png)\n",
    "\n",
    "Another option is <b>Spyder</b>, which is included with Anaconda (the tool that you used initially to install Python). Later in the course, we may begin to use IDEs, or at least get familiar with some of their features.\n",
    "\n",
    "\n",
    "## Jupyter Notebook\n",
    "\n",
    "You are currently viewing a Juypter Notebook. As you can see, this takes the form of a web document or application in which text, images and - more importantly - embedded code which can be viewed, edited and run.\n",
    "\n",
    "For example, try the following:\n",
    "\n"
   ]
  },
  {
   "cell_type": "code",
   "execution_count": 1,
   "metadata": {},
   "outputs": [
    {
     "name": "stdout",
     "output_type": "stream",
     "text": [
      "This is a small Python script. Run me and you will see the response below.\n"
     ]
    }
   ],
   "source": [
    "print('This is a small Python script. Run me and you will see the response below.')"
   ]
  },
  {
   "cell_type": "markdown",
   "metadata": {},
   "source": [
    "The Juypter Notebook is a kind of mash-up between a live, web document (think Google Docs) and the command line, interactive Python shell that you've already played with above.\n",
    "\n",
    "Juypter Notebooks are getting increasingly \"hipster\" and popular with data scientists. They're also a great means of publishing experimental data <i>and</i> the code needed to process and manipulate the ata.\n",
    "\n",
    "In an ideal world, scientific papers would include things like Juypter Notebooks as Supplementary Information, allowing data and code to be transparently shared and made immediately reusable by the community."
   ]
  },
  {
   "cell_type": "markdown",
   "metadata": {},
   "source": [
    "# Next...\n",
    "\n",
    "We'll get going with introducing some basics. We'll look at <i>types</i> of data, <i>arithmetic operators</i> (which we looked at briefly) and <i>variables</i>. We'll also look at <i>collections</i> of data, including <i>lists</i> and <i>sets</i>."
   ]
  }
 ],
 "metadata": {
  "kernelspec": {
   "display_name": "Python 3",
   "language": "python",
   "name": "python3"
  },
  "language_info": {
   "codemirror_mode": {
    "name": "ipython",
    "version": 3
   },
   "file_extension": ".py",
   "mimetype": "text/x-python",
   "name": "python",
   "nbconvert_exporter": "python",
   "pygments_lexer": "ipython3",
   "version": "3.7.3"
  }
 },
 "nbformat": 4,
 "nbformat_minor": 2
}
